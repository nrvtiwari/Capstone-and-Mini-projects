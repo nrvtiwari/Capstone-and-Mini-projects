{
 "cells": [
  {
   "cell_type": "code",
   "execution_count": 1,
   "metadata": {},
   "outputs": [],
   "source": [
    "import pandas as pd \n",
    "import numpy as np\n",
    "import seaborn as sns\n",
    "import matplotlib.pyplot as plt"
   ]
  },
  {
   "cell_type": "code",
   "execution_count": 2,
   "metadata": {},
   "outputs": [],
   "source": [
    "import scipy.stats as stats\n",
    "import statsmodels.api as sm\n",
    "from statsmodels .formula .api import ols\n",
    "from statsmodels.stats.multicomp import pairwise_tukeyhsd"
   ]
  },
  {
   "cell_type": "code",
   "execution_count": 112,
   "metadata": {},
   "outputs": [
    {
     "data": {
      "text/html": [
       "<div>\n",
       "<style scoped>\n",
       "    .dataframe tbody tr th:only-of-type {\n",
       "        vertical-align: middle;\n",
       "    }\n",
       "\n",
       "    .dataframe tbody tr th {\n",
       "        vertical-align: top;\n",
       "    }\n",
       "\n",
       "    .dataframe thead th {\n",
       "        text-align: right;\n",
       "    }\n",
       "</style>\n",
       "<table border=\"1\" class=\"dataframe\">\n",
       "  <thead>\n",
       "    <tr style=\"text-align: right;\">\n",
       "      <th></th>\n",
       "      <th>Current</th>\n",
       "      <th>New</th>\n",
       "    </tr>\n",
       "  </thead>\n",
       "  <tbody>\n",
       "    <tr>\n",
       "      <td>0</td>\n",
       "      <td>264</td>\n",
       "      <td>277</td>\n",
       "    </tr>\n",
       "    <tr>\n",
       "      <td>1</td>\n",
       "      <td>261</td>\n",
       "      <td>269</td>\n",
       "    </tr>\n",
       "    <tr>\n",
       "      <td>2</td>\n",
       "      <td>267</td>\n",
       "      <td>263</td>\n",
       "    </tr>\n",
       "    <tr>\n",
       "      <td>3</td>\n",
       "      <td>272</td>\n",
       "      <td>266</td>\n",
       "    </tr>\n",
       "    <tr>\n",
       "      <td>4</td>\n",
       "      <td>258</td>\n",
       "      <td>262</td>\n",
       "    </tr>\n",
       "  </tbody>\n",
       "</table>\n",
       "</div>"
      ],
      "text/plain": [
       "   Current  New\n",
       "0      264  277\n",
       "1      261  269\n",
       "2      267  263\n",
       "3      272  266\n",
       "4      258  262"
      ]
     },
     "execution_count": 112,
     "metadata": {},
     "output_type": "execute_result"
    }
   ],
   "source": [
    "df1 = pd.read_csv(r'C:\\Users\\hp\\Downloads\\stats project\\Golf.csv')\n",
    "df1.head()"
   ]
  },
  {
   "cell_type": "code",
   "execution_count": 113,
   "metadata": {},
   "outputs": [
    {
     "data": {
      "text/html": [
       "<div>\n",
       "<style scoped>\n",
       "    .dataframe tbody tr th:only-of-type {\n",
       "        vertical-align: middle;\n",
       "    }\n",
       "\n",
       "    .dataframe tbody tr th {\n",
       "        vertical-align: top;\n",
       "    }\n",
       "\n",
       "    .dataframe thead th {\n",
       "        text-align: right;\n",
       "    }\n",
       "</style>\n",
       "<table border=\"1\" class=\"dataframe\">\n",
       "  <thead>\n",
       "    <tr style=\"text-align: right;\">\n",
       "      <th></th>\n",
       "      <th>0</th>\n",
       "      <th>1</th>\n",
       "      <th>2</th>\n",
       "      <th>3</th>\n",
       "      <th>4</th>\n",
       "      <th>5</th>\n",
       "      <th>6</th>\n",
       "      <th>7</th>\n",
       "      <th>8</th>\n",
       "      <th>9</th>\n",
       "      <th>10</th>\n",
       "      <th>11</th>\n",
       "      <th>12</th>\n",
       "      <th>13</th>\n",
       "      <th>14</th>\n",
       "      <th>15</th>\n",
       "      <th>16</th>\n",
       "      <th>17</th>\n",
       "      <th>18</th>\n",
       "      <th>19</th>\n",
       "    </tr>\n",
       "  </thead>\n",
       "  <tbody>\n",
       "    <tr>\n",
       "      <td>0</td>\n",
       "      <td>NaN</td>\n",
       "      <td>NaN</td>\n",
       "      <td>NaN</td>\n",
       "      <td>NaN</td>\n",
       "      <td>NaN</td>\n",
       "      <td>NaN</td>\n",
       "      <td>NaN</td>\n",
       "      <td>NaN</td>\n",
       "      <td>NaN</td>\n",
       "      <td>NaN</td>\n",
       "      <td>NaN</td>\n",
       "      <td>NaN</td>\n",
       "      <td>NaN</td>\n",
       "      <td>NaN</td>\n",
       "      <td>NaN</td>\n",
       "      <td>NaN</td>\n",
       "      <td>NaN</td>\n",
       "      <td>NaN</td>\n",
       "      <td>NaN</td>\n",
       "      <td>NaN</td>\n",
       "    </tr>\n",
       "    <tr>\n",
       "      <td>1</td>\n",
       "      <td>Pos</td>\n",
       "      <td>Team</td>\n",
       "      <td>Seasons</td>\n",
       "      <td>Points</td>\n",
       "      <td>GamesPlayed</td>\n",
       "      <td>GamesWon</td>\n",
       "      <td>GamesDrawn</td>\n",
       "      <td>GamesLost</td>\n",
       "      <td>GoalsFor</td>\n",
       "      <td>GoalsAgainst</td>\n",
       "      <td>Champion</td>\n",
       "      <td>Runner-up</td>\n",
       "      <td>Third</td>\n",
       "      <td>Fourth</td>\n",
       "      <td>Fifth</td>\n",
       "      <td>Sixth</td>\n",
       "      <td>T</td>\n",
       "      <td>Debut</td>\n",
       "      <td>Since/LastApp</td>\n",
       "      <td>BestPosition</td>\n",
       "    </tr>\n",
       "    <tr>\n",
       "      <td>2</td>\n",
       "      <td>1</td>\n",
       "      <td>Real Madrid</td>\n",
       "      <td>86</td>\n",
       "      <td>4385</td>\n",
       "      <td>2762</td>\n",
       "      <td>1647</td>\n",
       "      <td>552</td>\n",
       "      <td>563</td>\n",
       "      <td>5947</td>\n",
       "      <td>3140</td>\n",
       "      <td>33</td>\n",
       "      <td>23</td>\n",
       "      <td>8</td>\n",
       "      <td>8</td>\n",
       "      <td>3</td>\n",
       "      <td>4</td>\n",
       "      <td>79</td>\n",
       "      <td>1929</td>\n",
       "      <td>1929</td>\n",
       "      <td>1</td>\n",
       "    </tr>\n",
       "    <tr>\n",
       "      <td>3</td>\n",
       "      <td>2</td>\n",
       "      <td>Barcelona</td>\n",
       "      <td>86</td>\n",
       "      <td>4262</td>\n",
       "      <td>2762</td>\n",
       "      <td>1581</td>\n",
       "      <td>573</td>\n",
       "      <td>608</td>\n",
       "      <td>5900</td>\n",
       "      <td>3114</td>\n",
       "      <td>25</td>\n",
       "      <td>25</td>\n",
       "      <td>12</td>\n",
       "      <td>12</td>\n",
       "      <td>4</td>\n",
       "      <td>6</td>\n",
       "      <td>83</td>\n",
       "      <td>1929</td>\n",
       "      <td>1929</td>\n",
       "      <td>1</td>\n",
       "    </tr>\n",
       "    <tr>\n",
       "      <td>4</td>\n",
       "      <td>3</td>\n",
       "      <td>Atletico Madrid</td>\n",
       "      <td>80</td>\n",
       "      <td>3442</td>\n",
       "      <td>2614</td>\n",
       "      <td>1241</td>\n",
       "      <td>598</td>\n",
       "      <td>775</td>\n",
       "      <td>4534</td>\n",
       "      <td>3309</td>\n",
       "      <td>10</td>\n",
       "      <td>8</td>\n",
       "      <td>16</td>\n",
       "      <td>9</td>\n",
       "      <td>7</td>\n",
       "      <td>6</td>\n",
       "      <td>56</td>\n",
       "      <td>1929</td>\n",
       "      <td>2002-03</td>\n",
       "      <td>1</td>\n",
       "    </tr>\n",
       "  </tbody>\n",
       "</table>\n",
       "</div>"
      ],
      "text/plain": [
       "    0                1        2       3            4         5           6   \\\n",
       "0  NaN              NaN      NaN     NaN          NaN       NaN         NaN   \n",
       "1  Pos             Team  Seasons  Points  GamesPlayed  GamesWon  GamesDrawn   \n",
       "2    1      Real Madrid       86    4385         2762      1647         552   \n",
       "3    2        Barcelona       86    4262         2762      1581         573   \n",
       "4    3  Atletico Madrid       80    3442         2614      1241         598   \n",
       "\n",
       "          7         8             9         10         11     12      13  \\\n",
       "0        NaN       NaN           NaN       NaN        NaN    NaN     NaN   \n",
       "1  GamesLost  GoalsFor  GoalsAgainst  Champion  Runner-up  Third  Fourth   \n",
       "2        563      5947          3140        33         23      8       8   \n",
       "3        608      5900          3114        25         25     12      12   \n",
       "4        775      4534          3309        10          8     16       9   \n",
       "\n",
       "      14     15   16     17             18            19  \n",
       "0    NaN    NaN  NaN    NaN            NaN           NaN  \n",
       "1  Fifth  Sixth    T  Debut  Since/LastApp  BestPosition  \n",
       "2      3      4   79   1929           1929             1  \n",
       "3      4      6   83   1929           1929             1  \n",
       "4      7      6   56   1929        2002-03             1  "
      ]
     },
     "execution_count": 113,
     "metadata": {},
     "output_type": "execute_result"
    }
   ],
   "source": [
    "df2 = pd.read_csv(r'C:\\Users\\hp\\Downloads\\stats project\\Laliga.csv' , header = None )\n",
    "df2.head()"
   ]
  },
  {
   "cell_type": "code",
   "execution_count": 114,
   "metadata": {},
   "outputs": [
    {
     "data": {
      "text/html": [
       "<div>\n",
       "<style scoped>\n",
       "    .dataframe tbody tr th:only-of-type {\n",
       "        vertical-align: middle;\n",
       "    }\n",
       "\n",
       "    .dataframe tbody tr th {\n",
       "        vertical-align: top;\n",
       "    }\n",
       "\n",
       "    .dataframe thead th {\n",
       "        text-align: right;\n",
       "    }\n",
       "</style>\n",
       "<table border=\"1\" class=\"dataframe\">\n",
       "  <thead>\n",
       "    <tr style=\"text-align: right;\">\n",
       "      <th>1</th>\n",
       "      <th>Pos</th>\n",
       "      <th>Team</th>\n",
       "      <th>Seasons</th>\n",
       "      <th>Points</th>\n",
       "      <th>GamesPlayed</th>\n",
       "      <th>GamesWon</th>\n",
       "      <th>GamesDrawn</th>\n",
       "      <th>GamesLost</th>\n",
       "      <th>GoalsFor</th>\n",
       "      <th>GoalsAgainst</th>\n",
       "      <th>Champion</th>\n",
       "      <th>Runner-up</th>\n",
       "      <th>Third</th>\n",
       "      <th>Fourth</th>\n",
       "      <th>Fifth</th>\n",
       "      <th>Sixth</th>\n",
       "      <th>T</th>\n",
       "      <th>Debut</th>\n",
       "      <th>Since/LastApp</th>\n",
       "      <th>BestPosition</th>\n",
       "    </tr>\n",
       "  </thead>\n",
       "  <tbody>\n",
       "    <tr>\n",
       "      <td>2</td>\n",
       "      <td>1</td>\n",
       "      <td>Real Madrid</td>\n",
       "      <td>86</td>\n",
       "      <td>4385</td>\n",
       "      <td>2762</td>\n",
       "      <td>1647</td>\n",
       "      <td>552</td>\n",
       "      <td>563</td>\n",
       "      <td>5947</td>\n",
       "      <td>3140</td>\n",
       "      <td>33</td>\n",
       "      <td>23</td>\n",
       "      <td>8</td>\n",
       "      <td>8</td>\n",
       "      <td>3</td>\n",
       "      <td>4</td>\n",
       "      <td>79</td>\n",
       "      <td>1929</td>\n",
       "      <td>1929</td>\n",
       "      <td>1</td>\n",
       "    </tr>\n",
       "    <tr>\n",
       "      <td>3</td>\n",
       "      <td>2</td>\n",
       "      <td>Barcelona</td>\n",
       "      <td>86</td>\n",
       "      <td>4262</td>\n",
       "      <td>2762</td>\n",
       "      <td>1581</td>\n",
       "      <td>573</td>\n",
       "      <td>608</td>\n",
       "      <td>5900</td>\n",
       "      <td>3114</td>\n",
       "      <td>25</td>\n",
       "      <td>25</td>\n",
       "      <td>12</td>\n",
       "      <td>12</td>\n",
       "      <td>4</td>\n",
       "      <td>6</td>\n",
       "      <td>83</td>\n",
       "      <td>1929</td>\n",
       "      <td>1929</td>\n",
       "      <td>1</td>\n",
       "    </tr>\n",
       "    <tr>\n",
       "      <td>4</td>\n",
       "      <td>3</td>\n",
       "      <td>Atletico Madrid</td>\n",
       "      <td>80</td>\n",
       "      <td>3442</td>\n",
       "      <td>2614</td>\n",
       "      <td>1241</td>\n",
       "      <td>598</td>\n",
       "      <td>775</td>\n",
       "      <td>4534</td>\n",
       "      <td>3309</td>\n",
       "      <td>10</td>\n",
       "      <td>8</td>\n",
       "      <td>16</td>\n",
       "      <td>9</td>\n",
       "      <td>7</td>\n",
       "      <td>6</td>\n",
       "      <td>56</td>\n",
       "      <td>1929</td>\n",
       "      <td>2002-03</td>\n",
       "      <td>1</td>\n",
       "    </tr>\n",
       "    <tr>\n",
       "      <td>5</td>\n",
       "      <td>4</td>\n",
       "      <td>Valencia</td>\n",
       "      <td>82</td>\n",
       "      <td>3386</td>\n",
       "      <td>2664</td>\n",
       "      <td>1187</td>\n",
       "      <td>616</td>\n",
       "      <td>861</td>\n",
       "      <td>4398</td>\n",
       "      <td>3469</td>\n",
       "      <td>6</td>\n",
       "      <td>6</td>\n",
       "      <td>10</td>\n",
       "      <td>11</td>\n",
       "      <td>10</td>\n",
       "      <td>7</td>\n",
       "      <td>50</td>\n",
       "      <td>1931-32</td>\n",
       "      <td>1987-88</td>\n",
       "      <td>1</td>\n",
       "    </tr>\n",
       "    <tr>\n",
       "      <td>6</td>\n",
       "      <td>5</td>\n",
       "      <td>Athletic Bilbao</td>\n",
       "      <td>86</td>\n",
       "      <td>3368</td>\n",
       "      <td>2762</td>\n",
       "      <td>1209</td>\n",
       "      <td>633</td>\n",
       "      <td>920</td>\n",
       "      <td>4631</td>\n",
       "      <td>3700</td>\n",
       "      <td>8</td>\n",
       "      <td>7</td>\n",
       "      <td>10</td>\n",
       "      <td>5</td>\n",
       "      <td>8</td>\n",
       "      <td>10</td>\n",
       "      <td>49</td>\n",
       "      <td>1929</td>\n",
       "      <td>1929</td>\n",
       "      <td>1</td>\n",
       "    </tr>\n",
       "    <tr>\n",
       "      <td>...</td>\n",
       "      <td>...</td>\n",
       "      <td>...</td>\n",
       "      <td>...</td>\n",
       "      <td>...</td>\n",
       "      <td>...</td>\n",
       "      <td>...</td>\n",
       "      <td>...</td>\n",
       "      <td>...</td>\n",
       "      <td>...</td>\n",
       "      <td>...</td>\n",
       "      <td>...</td>\n",
       "      <td>...</td>\n",
       "      <td>...</td>\n",
       "      <td>...</td>\n",
       "      <td>...</td>\n",
       "      <td>...</td>\n",
       "      <td>...</td>\n",
       "      <td>...</td>\n",
       "      <td>...</td>\n",
       "      <td>...</td>\n",
       "    </tr>\n",
       "    <tr>\n",
       "      <td>58</td>\n",
       "      <td>57</td>\n",
       "      <td>Xerez</td>\n",
       "      <td>1</td>\n",
       "      <td>34</td>\n",
       "      <td>38</td>\n",
       "      <td>8</td>\n",
       "      <td>10</td>\n",
       "      <td>20</td>\n",
       "      <td>38</td>\n",
       "      <td>66</td>\n",
       "      <td>-</td>\n",
       "      <td>-</td>\n",
       "      <td>-</td>\n",
       "      <td>-</td>\n",
       "      <td>-</td>\n",
       "      <td>-</td>\n",
       "      <td>-</td>\n",
       "      <td>2009-10</td>\n",
       "      <td>2009-10</td>\n",
       "      <td>20</td>\n",
       "    </tr>\n",
       "    <tr>\n",
       "      <td>59</td>\n",
       "      <td>58</td>\n",
       "      <td>Condal</td>\n",
       "      <td>1</td>\n",
       "      <td>22</td>\n",
       "      <td>30</td>\n",
       "      <td>7</td>\n",
       "      <td>8</td>\n",
       "      <td>15</td>\n",
       "      <td>37</td>\n",
       "      <td>57</td>\n",
       "      <td>-</td>\n",
       "      <td>-</td>\n",
       "      <td>-</td>\n",
       "      <td>-</td>\n",
       "      <td>-</td>\n",
       "      <td>-</td>\n",
       "      <td>-</td>\n",
       "      <td>1956-57</td>\n",
       "      <td>1956-57</td>\n",
       "      <td>16</td>\n",
       "    </tr>\n",
       "    <tr>\n",
       "      <td>60</td>\n",
       "      <td>59</td>\n",
       "      <td>Atletico Tetuan</td>\n",
       "      <td>1</td>\n",
       "      <td>19</td>\n",
       "      <td>30</td>\n",
       "      <td>7</td>\n",
       "      <td>5</td>\n",
       "      <td>18</td>\n",
       "      <td>51</td>\n",
       "      <td>85</td>\n",
       "      <td>-</td>\n",
       "      <td>-</td>\n",
       "      <td>-</td>\n",
       "      <td>-</td>\n",
       "      <td>-</td>\n",
       "      <td>-</td>\n",
       "      <td>-</td>\n",
       "      <td>1951-52</td>\n",
       "      <td>1951-52</td>\n",
       "      <td>16</td>\n",
       "    </tr>\n",
       "    <tr>\n",
       "      <td>61</td>\n",
       "      <td>60</td>\n",
       "      <td>Cultural Leonesa</td>\n",
       "      <td>1</td>\n",
       "      <td>14</td>\n",
       "      <td>30</td>\n",
       "      <td>5</td>\n",
       "      <td>4</td>\n",
       "      <td>21</td>\n",
       "      <td>34</td>\n",
       "      <td>65</td>\n",
       "      <td>-</td>\n",
       "      <td>-</td>\n",
       "      <td>-</td>\n",
       "      <td>-</td>\n",
       "      <td>-</td>\n",
       "      <td>-</td>\n",
       "      <td>-</td>\n",
       "      <td>1955-56</td>\n",
       "      <td>1955-56</td>\n",
       "      <td>15</td>\n",
       "    </tr>\n",
       "    <tr>\n",
       "      <td>62</td>\n",
       "      <td>61</td>\n",
       "      <td>Girona</td>\n",
       "      <td>1</td>\n",
       "      <td>-</td>\n",
       "      <td>-</td>\n",
       "      <td>-</td>\n",
       "      <td>-</td>\n",
       "      <td>-</td>\n",
       "      <td>-</td>\n",
       "      <td>-</td>\n",
       "      <td>-</td>\n",
       "      <td>-</td>\n",
       "      <td>-</td>\n",
       "      <td>-</td>\n",
       "      <td>-</td>\n",
       "      <td>-</td>\n",
       "      <td>-</td>\n",
       "      <td>2017-18</td>\n",
       "      <td>2017-18</td>\n",
       "      <td>9</td>\n",
       "    </tr>\n",
       "  </tbody>\n",
       "</table>\n",
       "<p>61 rows × 20 columns</p>\n",
       "</div>"
      ],
      "text/plain": [
       "1  Pos              Team Seasons Points GamesPlayed GamesWon GamesDrawn  \\\n",
       "2    1       Real Madrid      86   4385        2762     1647        552   \n",
       "3    2         Barcelona      86   4262        2762     1581        573   \n",
       "4    3   Atletico Madrid      80   3442        2614     1241        598   \n",
       "5    4          Valencia      82   3386        2664     1187        616   \n",
       "6    5   Athletic Bilbao      86   3368        2762     1209        633   \n",
       "..  ..               ...     ...    ...         ...      ...        ...   \n",
       "58  57             Xerez       1     34          38        8         10   \n",
       "59  58            Condal       1     22          30        7          8   \n",
       "60  59   Atletico Tetuan       1     19          30        7          5   \n",
       "61  60  Cultural Leonesa       1     14          30        5          4   \n",
       "62  61            Girona       1      -           -        -          -   \n",
       "\n",
       "1  GamesLost GoalsFor GoalsAgainst Champion Runner-up Third Fourth Fifth  \\\n",
       "2        563     5947         3140       33        23     8      8     3   \n",
       "3        608     5900         3114       25        25    12     12     4   \n",
       "4        775     4534         3309       10         8    16      9     7   \n",
       "5        861     4398         3469        6         6    10     11    10   \n",
       "6        920     4631         3700        8         7    10      5     8   \n",
       "..       ...      ...          ...      ...       ...   ...    ...   ...   \n",
       "58        20       38           66        -         -     -      -     -   \n",
       "59        15       37           57        -         -     -      -     -   \n",
       "60        18       51           85        -         -     -      -     -   \n",
       "61        21       34           65        -         -     -      -     -   \n",
       "62         -        -            -        -         -     -      -     -   \n",
       "\n",
       "1  Sixth   T    Debut Since/LastApp BestPosition  \n",
       "2      4  79     1929          1929            1  \n",
       "3      6  83     1929          1929            1  \n",
       "4      6  56     1929       2002-03            1  \n",
       "5      7  50  1931-32       1987-88            1  \n",
       "6     10  49     1929          1929            1  \n",
       "..   ...  ..      ...           ...          ...  \n",
       "58     -   -  2009-10       2009-10           20  \n",
       "59     -   -  1956-57       1956-57           16  \n",
       "60     -   -  1951-52       1951-52           16  \n",
       "61     -   -  1955-56       1955-56           15  \n",
       "62     -   -  2017-18       2017-18            9  \n",
       "\n",
       "[61 rows x 20 columns]"
      ]
     },
     "execution_count": 114,
     "metadata": {},
     "output_type": "execute_result"
    }
   ],
   "source": [
    "df2.columns = df2.loc[1 ,:]\n",
    "df2 = df2.drop([0,1])\n",
    "df2\n",
    "\n"
   ]
  },
  {
   "cell_type": "markdown",
   "metadata": {},
   "source": [
    "### 1. You were recently hired as a business analyst in a top sports company. The senior management team has asked you to come up with metrics with which they can gauge which team will win the upcoming La Liga cup (Football tournament). The given data set contains information on all the teams that have so far participated in all the past tournaments. It has data about how many goals each team scored, conceded; how many times they came within the first 6 positions, how many seasons they have qualified, their best position in the past, etc. You are required to do the following:\n",
    "\n",
    "### Before doing any analysis it would be a good idea to check for any hypens or other symbols the data set and make appropriate replacements to make sure you can perform arithmetic operations on the data. Prepare a short report to answer the following questions:\n",
    "\n",
    "### 1.\tWhich are the teams which started playing between 1930-1980?\n",
    "\n",
    "### 2.\tWhich are the top 5 teams in terms of points?\n",
    "\n",
    "### 3.\tWhat is the distribution of the winning percentage for all teams? Which teams are in the top 5 in terms of winning percentage? (Winning percentage= (GamesWon / GamesPlayed)*100)\n",
    "\n",
    "### 4.\tIs there a significant difference in the winning percentage for teams which have attained a best position between 1-3 and those teams which have had a best position between 4-7.\n"
   ]
  },
  {
   "cell_type": "code",
   "execution_count": null,
   "metadata": {},
   "outputs": [],
   "source": []
  },
  {
   "cell_type": "code",
   "execution_count": null,
   "metadata": {},
   "outputs": [],
   "source": []
  },
  {
   "cell_type": "code",
   "execution_count": null,
   "metadata": {},
   "outputs": [],
   "source": []
  },
  {
   "cell_type": "code",
   "execution_count": 115,
   "metadata": {},
   "outputs": [
    {
     "data": {
      "text/plain": [
       "(61, 20)"
      ]
     },
     "execution_count": 115,
     "metadata": {},
     "output_type": "execute_result"
    }
   ],
   "source": [
    "df2.shape"
   ]
  },
  {
   "cell_type": "code",
   "execution_count": 116,
   "metadata": {},
   "outputs": [
    {
     "name": "stdout",
     "output_type": "stream",
     "text": [
      "<class 'pandas.core.frame.DataFrame'>\n",
      "Int64Index: 61 entries, 2 to 62\n",
      "Data columns (total 20 columns):\n",
      "Pos              61 non-null object\n",
      "Team             61 non-null object\n",
      "Seasons          61 non-null object\n",
      "Points           61 non-null object\n",
      "GamesPlayed      61 non-null object\n",
      "GamesWon         61 non-null object\n",
      "GamesDrawn       61 non-null object\n",
      "GamesLost        61 non-null object\n",
      "GoalsFor         61 non-null object\n",
      "GoalsAgainst     61 non-null object\n",
      "Champion         61 non-null object\n",
      "Runner-up        61 non-null object\n",
      "Third            61 non-null object\n",
      "Fourth           61 non-null object\n",
      "Fifth            61 non-null object\n",
      "Sixth            61 non-null object\n",
      "T                61 non-null object\n",
      "Debut            61 non-null object\n",
      "Since/LastApp    61 non-null object\n",
      "BestPosition     61 non-null object\n",
      "dtypes: object(20)\n",
      "memory usage: 10.0+ KB\n"
     ]
    }
   ],
   "source": [
    "df2.info()\n",
    "## there is  no nullvalues"
   ]
  },
  {
   "cell_type": "code",
   "execution_count": 117,
   "metadata": {},
   "outputs": [],
   "source": [
    "## lets check  for  anomalies"
   ]
  },
  {
   "cell_type": "code",
   "execution_count": 227,
   "metadata": {},
   "outputs": [
    {
     "name": "stdout",
     "output_type": "stream",
     "text": [
      "Pos ['1' '2' '3' '4' '5' '6' '7' '8' '9' '10' '11' '12' '13' '14' '15' '16'\n",
      " '17' '18' '19' '20' '21' '22' '23' '24' '25' '26' '27' '28' '29' '30'\n",
      " '31' '32' '33' '34' '35' '36' '37' '38' '39' '40' '41' '42' '43' '44'\n",
      " '45' '46' '47' '48' '49' '50' '51' '52' '53' '54' '55' '56' '57' '58'\n",
      " '59' '60' '61'] 61\n",
      "Team ['Real Madrid' 'Barcelona' 'Atletico Madrid' 'Valencia' 'Athletic Bilbao'\n",
      " 'Sevilla' 'Espanyol' 'Real Sociedad' 'Zaragoza' 'Real Betis'\n",
      " 'Deportivo La Coruna' 'Celta Vigo' 'Valladolid' 'Racing Santander'\n",
      " 'Sporting Gijon' 'Osasuna' 'Malaga' 'Oviedo' 'Mallorca' 'Las Palmas'\n",
      " 'Villarreal' 'Granada' 'Rayo Vallecano' 'Elche' 'Getafe' 'Hercules'\n",
      " 'Tenerife' 'Murcia' 'Alaves' 'Levante' 'Salamanca' 'Sabadell' 'Cadiz'\n",
      " 'Logrones' 'Castellon' 'Albacete' 'Almeria' 'Cordoba' 'Compostela'\n",
      " 'Recreativo' 'Burgos CF' 'Pontevedra' 'Numancia' 'Eibar' 'Arenas'\n",
      " 'Real Burgos' 'Gimnastic' 'Extremadura' 'Merida' 'Alcoyano' 'Jaen'\n",
      " 'Real Union' 'AD Almeria' 'Europa' 'Lleida' 'Leganes' 'Xerez' 'Condal'\n",
      " 'Atletico Tetuan' 'Cultural Leonesa' 'Girona'] 61\n",
      "Seasons ['86' '80' '82' '73' '70' '58' '51' '45' '42' '44' '43' '37' '36' '38'\n",
      " '27' '33' '17' '23' '21' '12' '20' '13' '18' '11' '14' '9' '7' '6' '4'\n",
      " '5' '3' '2' '1'] 33\n",
      "Points ['4385' '4262' '3442' '3386' '3368' '2819' '2792' '2573' '2109' '1884'\n",
      " '1814' '1789' '1471' '1416' '1389' '1351' '1314' '1174' '1148' '1020'\n",
      " '970' '667' '662' '606' '553' '538' '510' '445' '421' '416' '375' '353'\n",
      " '343' '293' '285' '277' '242' '230' '190' '188' '168' '150' '148' '132'\n",
      " '107' '96' '91' '83' '81' '76' '71' '56' '52' '42' '40' '35' '34' '22'\n",
      " '19' '14' '-'] 61\n",
      "GamesPlayed ['2762' '2614' '2664' '2408' '2626' '2302' '1986' '1728' '1530' '1698'\n",
      " '1466' '1428' '1458' '1318' '1255' '1192' '988' '1096' '646' '742' '652'\n",
      " '678' '456' '628' '494' '586' '380' '402' '423' '426' '448' '346' '334'\n",
      " '270' '228' '282' '160' '186' '204' '180' '152' '114' '130' '116' '80'\n",
      " '108' '90' '72' '68' '54' '38' '30' '-'] 53\n",
      "GamesWon ['1647' '1581' '1241' '1187' '1209' '990' '948' '864' '698' '606' '563'\n",
      " '586' '463' '453' '471' '426' '390' '408' '333' '367' '266' '218' '189'\n",
      " '203' '147' '184' '155' '145' '125' '113' '123' '129' '104' '96' '103'\n",
      " '76' '62' '82' '52' '50' '59' '53' '37' '35' '43' '26' '34' '20' '19'\n",
      " '30' '29' '21' '17' '18' '13' '8' '7' '5' '-'] 59\n",
      "GamesDrawn ['552' '573' '598' '616' '633' '531' '608' '577' '522' '440' '392' '389'\n",
      " '384' '336' '358' '327' '330' '292' '256' '242' '172' '175' '148' '180'\n",
      " '112' '149' '128' '143' '81' '95' '102' '127' '92' '79' '76' '56' '63'\n",
      " '45' '46' '50' '44' '37' '27' '21' '16' '23' '24' '13' '14' '18' '6' '11'\n",
      " '10' '8' '5' '4' '-'] 57\n",
      "GamesLost ['563' '608' '775' '861' '920' '887' '1070' '766' '682' '575' '723' '619'\n",
      " '639' '629' '565' '535' '492' '399' '487' '208' '349' '305' '295' '197'\n",
      " '211' '298' '174' '194' '198' '202' '217' '158' '152' '118' '110' '137'\n",
      " '63' '90' '95' '83' '78' '52' '66' '44' '37' '62' '48' '33' '30' '41'\n",
      " '19' '20' '15' '18' '21' '-'] 56\n",
      "GoalsFor ['5947' '5900' '4534' '4398' '4631' '3680' '3609' '3228' '2683' '2159'\n",
      " '2052' '2278' '1767' '1843' '1753' '1500' '1421' '1642' '1182' '1347'\n",
      " '892' '819' '760' '750' '520' '716' '619' '607' '458' '430' '422' '492'\n",
      " '393' '291' '419' '320' '244' '285' '199' '202' '216' '165' '155' '139'\n",
      " '227' '101' '181' '62' '70' '145' '121' '153' '71' '97' '36' '38' '37'\n",
      " '51' '34' '-'] 60\n",
      "GoalsAgainst ['3140' '3114' '3309' '3469' '3700' '3373' '3889' '3230' '2847' '2492'\n",
      " '2188' '2624' '2180' '2368' '2152' '1834' '1763' '1951' '1371' '1746'\n",
      " '789' '1157' '1088' '1022' '633' '1050' '744' '992' '623' '632' '581'\n",
      " '720' '662' '489' '588' '410' '366' '430' '241' '296' '310' '221' '253'\n",
      " '167' '308' '139' '295' '117' '115' '252' '183' '184' '116' '131' '182'\n",
      " '55' '66' '57' '85' '65' '-'] 61\n",
      "Champion ['33' '25' '10' '6' '8' '1' '-' '2'] 8\n",
      "Runner-up ['23' '25' '8' '6' '7' '4' '-' '3' '1' '5'] 10\n",
      "Third ['8' '12' '16' '10' '4' '2' '-' '1' '3'] 9\n",
      "Fourth ['8' '12' '9' '11' '5' '3' '1' '2' '-'] 9\n",
      "Fifth ['3' '4' '7' '10' '8' '12' '2' '-' '1'] 9\n",
      "Sixth ['4' '6' '7' '10' '5' '3' '1' '2' '-'] 9\n",
      "T ['79' '83' '56' '50' '49' '32' '16' '19' '18' '14' '12' '11' '3' '5' '7'\n",
      " '6' '2' '9' '-' '1' '4'] 21\n",
      "Debut ['1929' '1931-32' '1934-35' '1939-40' '1932-33' '1941-42' '1948-49'\n",
      " '1944-45' '1935-36' '1949-50' '1933-34' '1960-61' '1951-52' '1998-99'\n",
      " '1977-78' '1959-60' '2004-05' '1961-62' '1940-41' '1930-31' '1963-64'\n",
      " '1974-75' '1943-44' '1987-88' '1991-92' '2007-08' '1962-63' '1994-95'\n",
      " '1978-79' '1971-72' '1999-00' '2014-15' '1990-91' '1947-48' '1996-97'\n",
      " '1995-96' '1945-46' '1953-54' '1979-80' '1950-51' '2016-17' '2009-10'\n",
      " '1956-57' '1955-56' '2017-18'] 45\n",
      "Since/LastApp ['1929' '2002-03' '1987-88' '2001-02' '1994-95' '2010-11' '2012-13'\n",
      " '2015-16' '2014-15' '2013-14' '2011-12' '2016-17' '2008-09' '2000-01'\n",
      " '2009-10' '2007-08' '1998-99' '2005-06' '1996-97' '1990-91' '2004-05'\n",
      " '1997-98' '1979-80' '1969-70' '1934-35' '1992-93' '2006-07' '1950-51'\n",
      " '1957-58' '1931-32' '1980-81' '1930-31' '1993-94' '1956-57' '1951-52'\n",
      " '1955-56' '2017-18'] 37\n",
      "BestPosition ['1' '3' '2' '4' '6' '8' '5' '11' '7' '12' '10' '17' '9' '19' '14' '16'\n",
      " '20' '15'] 18\n",
      "deb1 [1929 1931 1934 1939 1932 1941 1948 1944 1935 1949 1933 1960 1951 1998\n",
      " 1977 1959 2004 1961 1940 1930 1963 1974 1943 1987 1991 2007 1962 1994\n",
      " 1978 1971 1999 2014 1990 1947 1996 1995 1945 1953 1979 1950 2016 2009\n",
      " 1956 1955 2017] 45\n"
     ]
    }
   ],
   "source": [
    "for i in df2.columns:\n",
    "    \n",
    "    print(i ,df2[i].unique(), df2[i].nunique() )"
   ]
  },
  {
   "cell_type": "code",
   "execution_count": null,
   "metadata": {},
   "outputs": [],
   "source": []
  },
  {
   "cell_type": "code",
   "execution_count": 228,
   "metadata": {},
   "outputs": [
    {
     "name": "stdout",
     "output_type": "stream",
     "text": [
      "not matching\n",
      "not matching\n",
      "not matching\n",
      "Points\n",
      "GamesPlayed\n",
      "GamesWon\n",
      "GamesDrawn\n",
      "GamesLost\n",
      "GoalsFor\n",
      "GoalsAgainst\n",
      "Champion\n",
      "Runner-up\n",
      "Third\n",
      "Fourth\n",
      "Fifth\n",
      "Sixth\n",
      "T\n",
      "not matching\n",
      "not matching\n",
      "not matching\n",
      "not matching\n"
     ]
    }
   ],
   "source": [
    "for i in df2.columns :\n",
    "    if('-'  in list(df2[i]) ):\n",
    "        print(i)\n",
    "    else :\n",
    "        print('not matching')\n",
    "        \n",
    "## here are the list of columns  where '-' is present"
   ]
  },
  {
   "cell_type": "code",
   "execution_count": 229,
   "metadata": {},
   "outputs": [
    {
     "data": {
      "text/plain": [
       "-     52\n",
       "1      3\n",
       "6      1\n",
       "10     1\n",
       "33     1\n",
       "2      1\n",
       "25     1\n",
       "8      1\n",
       "Name: Champion, dtype: int64"
      ]
     },
     "execution_count": 229,
     "metadata": {},
     "output_type": "execute_result"
    }
   ],
   "source": [
    "df2['Champion'].value_counts()"
   ]
  },
  {
   "cell_type": "code",
   "execution_count": 230,
   "metadata": {},
   "outputs": [],
   "source": [
    "# now  we can replace '-' with np.nan\n",
    "df3 = df2.replace('-' , 0)"
   ]
  },
  {
   "cell_type": "code",
   "execution_count": 231,
   "metadata": {},
   "outputs": [
    {
     "data": {
      "text/plain": [
       "1\n",
       "Pos              0\n",
       "Team             0\n",
       "Seasons          0\n",
       "Points           0\n",
       "GamesPlayed      0\n",
       "GamesWon         0\n",
       "GamesDrawn       0\n",
       "GamesLost        0\n",
       "GoalsFor         0\n",
       "GoalsAgainst     0\n",
       "Champion         0\n",
       "Runner-up        0\n",
       "Third            0\n",
       "Fourth           0\n",
       "Fifth            0\n",
       "Sixth            0\n",
       "T                0\n",
       "Debut            0\n",
       "Since/LastApp    0\n",
       "BestPosition     0\n",
       "deb1             0\n",
       "dtype: int64"
      ]
     },
     "execution_count": 231,
     "metadata": {},
     "output_type": "execute_result"
    }
   ],
   "source": [
    "df3.isnull().sum()"
   ]
  },
  {
   "cell_type": "markdown",
   "metadata": {},
   "source": [
    "### 1. Which are the teams which started playing between 1930-1980?¶"
   ]
  },
  {
   "cell_type": "code",
   "execution_count": 232,
   "metadata": {},
   "outputs": [
    {
     "data": {
      "text/plain": [
       "Index(['Pos', 'Team', 'Seasons', 'Points', 'GamesPlayed', 'GamesWon',\n",
       "       'GamesDrawn', 'GamesLost', 'GoalsFor', 'GoalsAgainst', 'Champion',\n",
       "       'Runner-up', 'Third', 'Fourth', 'Fifth', 'Sixth', 'T', 'Debut',\n",
       "       'Since/LastApp', 'BestPosition', 'deb1'],\n",
       "      dtype='object', name=1)"
      ]
     },
     "execution_count": 232,
     "metadata": {},
     "output_type": "execute_result"
    }
   ],
   "source": [
    "df3.columns"
   ]
  },
  {
   "cell_type": "code",
   "execution_count": null,
   "metadata": {},
   "outputs": [],
   "source": []
  },
  {
   "cell_type": "code",
   "execution_count": 233,
   "metadata": {},
   "outputs": [],
   "source": [
    "df3['deb1'] =df3['Debut'].str.split('-')\n"
   ]
  },
  {
   "cell_type": "code",
   "execution_count": 234,
   "metadata": {},
   "outputs": [
    {
     "data": {
      "text/plain": [
       "2     1929\n",
       "3     1929\n",
       "4     1929\n",
       "5     1931\n",
       "6     1929\n",
       "      ... \n",
       "58    2009\n",
       "59    1956\n",
       "60    1951\n",
       "61    1955\n",
       "62    2017\n",
       "Name: deb1, Length: 61, dtype: object"
      ]
     },
     "execution_count": 234,
     "metadata": {},
     "output_type": "execute_result"
    }
   ],
   "source": [
    "df2['deb1'] "
   ]
  },
  {
   "cell_type": "code",
   "execution_count": 235,
   "metadata": {},
   "outputs": [
    {
     "name": "stdout",
     "output_type": "stream",
     "text": [
      "1931\n",
      "1934\n",
      "1939\n",
      "1932\n",
      "1941\n",
      "1939\n",
      "1948\n",
      "1944\n",
      "1935\n",
      "1949\n",
      "1933\n",
      "1960\n",
      "1951\n",
      "1941\n",
      "1977\n",
      "1959\n",
      "1935\n",
      "1961\n",
      "1940\n",
      "1963\n",
      "1974\n",
      "1943\n",
      "1977\n",
      "1941\n",
      "1962\n",
      "1978\n",
      "1971\n",
      "1963\n",
      "1947\n",
      "1945\n",
      "1953\n",
      "1979\n",
      "1950\n",
      "1956\n",
      "1951\n",
      "1955\n"
     ]
    }
   ],
   "source": [
    "for i in df2['deb1']:\n",
    "    if (i>1930 and i<1980):\n",
    "        print(i)\n",
    "    "
   ]
  },
  {
   "cell_type": "code",
   "execution_count": 239,
   "metadata": {},
   "outputs": [
    {
     "data": {
      "text/plain": [
       "Index(['Pos', 'Team', 'Seasons', 'Points', 'GamesPlayed', 'GamesWon',\n",
       "       'GamesDrawn', 'GamesLost', 'GoalsFor', 'GoalsAgainst', 'Champion',\n",
       "       'Runner-up', 'Third', 'Fourth', 'Fifth', 'Sixth', 'T', 'Debut',\n",
       "       'Since/LastApp', 'BestPosition', 'deb1'],\n",
       "      dtype='object', name=1)"
      ]
     },
     "execution_count": 239,
     "metadata": {},
     "output_type": "execute_result"
    }
   ],
   "source": [
    "df3.columns"
   ]
  },
  {
   "cell_type": "code",
   "execution_count": 241,
   "metadata": {},
   "outputs": [
    {
     "data": {
      "text/plain": [
       "2         [1929]\n",
       "3         [1929]\n",
       "4         [1929]\n",
       "5     [1931, 32]\n",
       "6         [1929]\n",
       "         ...    \n",
       "58    [2009, 10]\n",
       "59    [1956, 57]\n",
       "60    [1951, 52]\n",
       "61    [1955, 56]\n",
       "62    [2017, 18]\n",
       "Name: deb1, Length: 61, dtype: object"
      ]
     },
     "execution_count": 241,
     "metadata": {},
     "output_type": "execute_result"
    }
   ],
   "source": [
    "df3.deb1 "
   ]
  },
  {
   "cell_type": "code",
   "execution_count": 218,
   "metadata": {},
   "outputs": [
    {
     "name": "stdout",
     "output_type": "stream",
     "text": [
      "<class 'pandas.core.frame.DataFrame'>\n",
      "Int64Index: 61 entries, 2 to 62\n",
      "Data columns (total 21 columns):\n",
      "Pos              61 non-null object\n",
      "Team             61 non-null object\n",
      "Seasons          61 non-null object\n",
      "Points           61 non-null object\n",
      "GamesPlayed      61 non-null object\n",
      "GamesWon         61 non-null object\n",
      "GamesDrawn       61 non-null object\n",
      "GamesLost        61 non-null object\n",
      "GoalsFor         61 non-null object\n",
      "GoalsAgainst     61 non-null object\n",
      "Champion         61 non-null object\n",
      "Runner-up        61 non-null object\n",
      "Third            61 non-null object\n",
      "Fourth           61 non-null object\n",
      "Fifth            61 non-null object\n",
      "Sixth            61 non-null object\n",
      "T                61 non-null object\n",
      "Debut            61 non-null object\n",
      "Since/LastApp    61 non-null object\n",
      "BestPosition     61 non-null object\n",
      "deb1             61 non-null object\n",
      "dtypes: object(21)\n",
      "memory usage: 13.0+ KB\n"
     ]
    }
   ],
   "source": [
    " df2.info()"
   ]
  },
  {
   "cell_type": "code",
   "execution_count": 236,
   "metadata": {},
   "outputs": [],
   "source": [
    "def format_year(x):\n",
    "    if len(x)>1:\n",
    "        if int(x[0])<1999:\n",
    "            return [x[0],int(x[1])+1900]\n",
    "        else:\n",
    "            return [x[0],int(x[1])+2000]\n",
    "    else:\n",
    "        return x"
   ]
  },
  {
   "cell_type": "code",
   "execution_count": 237,
   "metadata": {},
   "outputs": [],
   "source": [
    "def yy_yyyy(x):\n",
    "    if len(x) > 1:\n",
    "        \n",
    "        if int(x[0])<1999:\n",
    "            return[x[0] , int(x[1])+1900 ]\n",
    "        else:\n",
    "            return[x[0] , int(x[1]) + 2000]\n",
    "    else:\n",
    "        return x"
   ]
  },
  {
   "cell_type": "code",
   "execution_count": 242,
   "metadata": {},
   "outputs": [],
   "source": [
    "df3['deb1'] =  df3['deb1'].apply (yy_yyyy)"
   ]
  },
  {
   "cell_type": "code",
   "execution_count": 243,
   "metadata": {},
   "outputs": [
    {
     "data": {
      "text/plain": [
       "2           [1929]\n",
       "3           [1929]\n",
       "4           [1929]\n",
       "5     [1931, 1932]\n",
       "6           [1929]\n",
       "          ...     \n",
       "58    [2009, 2010]\n",
       "59    [1956, 1957]\n",
       "60    [1951, 1952]\n",
       "61    [1955, 1956]\n",
       "62    [2017, 2018]\n",
       "Name: deb1, Length: 61, dtype: object"
      ]
     },
     "execution_count": 243,
     "metadata": {},
     "output_type": "execute_result"
    }
   ],
   "source": [
    "df3['deb1']"
   ]
  },
  {
   "cell_type": "code",
   "execution_count": 254,
   "metadata": {},
   "outputs": [],
   "source": [
    "def cd(x):\n",
    "    if len(x) ==1:\n",
    "        return int(x[0]) >=1930 and int(x[0])<=1980\n",
    "    else:\n",
    "        return ((int(x[0] )>=1930 and int(x[0])<=1980) or(int(x[1] )>=1930 and int(x[1])<=1980))"
   ]
  },
  {
   "cell_type": "code",
   "execution_count": 252,
   "metadata": {},
   "outputs": [],
   "source": []
  },
  {
   "cell_type": "code",
   "execution_count": 255,
   "metadata": {},
   "outputs": [
    {
     "data": {
      "text/plain": [
       "5                Valencia\n",
       "7                 Sevilla\n",
       "10               Zaragoza\n",
       "11             Real Betis\n",
       "12    Deportivo La Coruna\n",
       "13             Celta Vigo\n",
       "14             Valladolid\n",
       "16         Sporting Gijon\n",
       "17                Osasuna\n",
       "18                 Malaga\n",
       "19                 Oviedo\n",
       "20               Mallorca\n",
       "21             Las Palmas\n",
       "23                Granada\n",
       "24         Rayo Vallecano\n",
       "25                  Elche\n",
       "27               Hercules\n",
       "28               Tenerife\n",
       "29                 Murcia\n",
       "30                 Alaves\n",
       "31                Levante\n",
       "32              Salamanca\n",
       "33               Sabadell\n",
       "34                  Cadiz\n",
       "36              Castellon\n",
       "39                Cordoba\n",
       "41             Recreativo\n",
       "42              Burgos CF\n",
       "43             Pontevedra\n",
       "48              Gimnastic\n",
       "51               Alcoyano\n",
       "52                   Jaen\n",
       "54             AD Almeria\n",
       "56                 Lleida\n",
       "59                 Condal\n",
       "60        Atletico Tetuan\n",
       "61       Cultural Leonesa\n",
       "Name: Team, dtype: object"
      ]
     },
     "execution_count": 255,
     "metadata": {},
     "output_type": "execute_result"
    }
   ],
   "source": [
    "### teams who debuted between 1930 and 1980\n",
    "df3[df3['deb1'].apply(cd)]['Team']"
   ]
  },
  {
   "cell_type": "code",
   "execution_count": null,
   "metadata": {},
   "outputs": [],
   "source": [
    "df_new[df_new['Debut_temp'].apply(check_debut)]['Team']"
   ]
  },
  {
   "cell_type": "markdown",
   "metadata": {},
   "source": [
    "###  2. Which are the top 5 teams in terms of points?"
   ]
  },
  {
   "cell_type": "code",
   "execution_count": 256,
   "metadata": {},
   "outputs": [
    {
     "data": {
      "text/plain": [
       "Index(['Pos', 'Team', 'Seasons', 'Points', 'GamesPlayed', 'GamesWon',\n",
       "       'GamesDrawn', 'GamesLost', 'GoalsFor', 'GoalsAgainst', 'Champion',\n",
       "       'Runner-up', 'Third', 'Fourth', 'Fifth', 'Sixth', 'T', 'Debut',\n",
       "       'Since/LastApp', 'BestPosition', 'deb1'],\n",
       "      dtype='object', name=1)"
      ]
     },
     "execution_count": 256,
     "metadata": {},
     "output_type": "execute_result"
    }
   ],
   "source": [
    "df3.columns"
   ]
  },
  {
   "cell_type": "code",
   "execution_count": 257,
   "metadata": {},
   "outputs": [
    {
     "data": {
      "text/html": [
       "<div>\n",
       "<style scoped>\n",
       "    .dataframe tbody tr th:only-of-type {\n",
       "        vertical-align: middle;\n",
       "    }\n",
       "\n",
       "    .dataframe tbody tr th {\n",
       "        vertical-align: top;\n",
       "    }\n",
       "\n",
       "    .dataframe thead th {\n",
       "        text-align: right;\n",
       "    }\n",
       "</style>\n",
       "<table border=\"1\" class=\"dataframe\">\n",
       "  <thead>\n",
       "    <tr style=\"text-align: right;\">\n",
       "      <th>1</th>\n",
       "      <th>Pos</th>\n",
       "      <th>Team</th>\n",
       "      <th>Seasons</th>\n",
       "      <th>Points</th>\n",
       "      <th>GamesPlayed</th>\n",
       "      <th>GamesWon</th>\n",
       "      <th>GamesDrawn</th>\n",
       "      <th>GamesLost</th>\n",
       "      <th>GoalsFor</th>\n",
       "      <th>GoalsAgainst</th>\n",
       "      <th>...</th>\n",
       "      <th>Runner-up</th>\n",
       "      <th>Third</th>\n",
       "      <th>Fourth</th>\n",
       "      <th>Fifth</th>\n",
       "      <th>Sixth</th>\n",
       "      <th>T</th>\n",
       "      <th>Debut</th>\n",
       "      <th>Since/LastApp</th>\n",
       "      <th>BestPosition</th>\n",
       "      <th>deb1</th>\n",
       "    </tr>\n",
       "  </thead>\n",
       "  <tbody>\n",
       "    <tr>\n",
       "      <td>2</td>\n",
       "      <td>1</td>\n",
       "      <td>Real Madrid</td>\n",
       "      <td>86</td>\n",
       "      <td>4385</td>\n",
       "      <td>2762</td>\n",
       "      <td>1647</td>\n",
       "      <td>552</td>\n",
       "      <td>563</td>\n",
       "      <td>5947</td>\n",
       "      <td>3140</td>\n",
       "      <td>...</td>\n",
       "      <td>23</td>\n",
       "      <td>8</td>\n",
       "      <td>8</td>\n",
       "      <td>3</td>\n",
       "      <td>4</td>\n",
       "      <td>79</td>\n",
       "      <td>1929</td>\n",
       "      <td>1929</td>\n",
       "      <td>1</td>\n",
       "      <td>[1929]</td>\n",
       "    </tr>\n",
       "    <tr>\n",
       "      <td>3</td>\n",
       "      <td>2</td>\n",
       "      <td>Barcelona</td>\n",
       "      <td>86</td>\n",
       "      <td>4262</td>\n",
       "      <td>2762</td>\n",
       "      <td>1581</td>\n",
       "      <td>573</td>\n",
       "      <td>608</td>\n",
       "      <td>5900</td>\n",
       "      <td>3114</td>\n",
       "      <td>...</td>\n",
       "      <td>25</td>\n",
       "      <td>12</td>\n",
       "      <td>12</td>\n",
       "      <td>4</td>\n",
       "      <td>6</td>\n",
       "      <td>83</td>\n",
       "      <td>1929</td>\n",
       "      <td>1929</td>\n",
       "      <td>1</td>\n",
       "      <td>[1929]</td>\n",
       "    </tr>\n",
       "    <tr>\n",
       "      <td>4</td>\n",
       "      <td>3</td>\n",
       "      <td>Atletico Madrid</td>\n",
       "      <td>80</td>\n",
       "      <td>3442</td>\n",
       "      <td>2614</td>\n",
       "      <td>1241</td>\n",
       "      <td>598</td>\n",
       "      <td>775</td>\n",
       "      <td>4534</td>\n",
       "      <td>3309</td>\n",
       "      <td>...</td>\n",
       "      <td>8</td>\n",
       "      <td>16</td>\n",
       "      <td>9</td>\n",
       "      <td>7</td>\n",
       "      <td>6</td>\n",
       "      <td>56</td>\n",
       "      <td>1929</td>\n",
       "      <td>2002-03</td>\n",
       "      <td>1</td>\n",
       "      <td>[1929]</td>\n",
       "    </tr>\n",
       "    <tr>\n",
       "      <td>5</td>\n",
       "      <td>4</td>\n",
       "      <td>Valencia</td>\n",
       "      <td>82</td>\n",
       "      <td>3386</td>\n",
       "      <td>2664</td>\n",
       "      <td>1187</td>\n",
       "      <td>616</td>\n",
       "      <td>861</td>\n",
       "      <td>4398</td>\n",
       "      <td>3469</td>\n",
       "      <td>...</td>\n",
       "      <td>6</td>\n",
       "      <td>10</td>\n",
       "      <td>11</td>\n",
       "      <td>10</td>\n",
       "      <td>7</td>\n",
       "      <td>50</td>\n",
       "      <td>1931-32</td>\n",
       "      <td>1987-88</td>\n",
       "      <td>1</td>\n",
       "      <td>[1931, 1932]</td>\n",
       "    </tr>\n",
       "    <tr>\n",
       "      <td>6</td>\n",
       "      <td>5</td>\n",
       "      <td>Athletic Bilbao</td>\n",
       "      <td>86</td>\n",
       "      <td>3368</td>\n",
       "      <td>2762</td>\n",
       "      <td>1209</td>\n",
       "      <td>633</td>\n",
       "      <td>920</td>\n",
       "      <td>4631</td>\n",
       "      <td>3700</td>\n",
       "      <td>...</td>\n",
       "      <td>7</td>\n",
       "      <td>10</td>\n",
       "      <td>5</td>\n",
       "      <td>8</td>\n",
       "      <td>10</td>\n",
       "      <td>49</td>\n",
       "      <td>1929</td>\n",
       "      <td>1929</td>\n",
       "      <td>1</td>\n",
       "      <td>[1929]</td>\n",
       "    </tr>\n",
       "  </tbody>\n",
       "</table>\n",
       "<p>5 rows × 21 columns</p>\n",
       "</div>"
      ],
      "text/plain": [
       "1 Pos             Team Seasons Points GamesPlayed GamesWon GamesDrawn  \\\n",
       "2   1      Real Madrid      86   4385        2762     1647        552   \n",
       "3   2        Barcelona      86   4262        2762     1581        573   \n",
       "4   3  Atletico Madrid      80   3442        2614     1241        598   \n",
       "5   4         Valencia      82   3386        2664     1187        616   \n",
       "6   5  Athletic Bilbao      86   3368        2762     1209        633   \n",
       "\n",
       "1 GamesLost GoalsFor GoalsAgainst  ... Runner-up Third Fourth Fifth Sixth   T  \\\n",
       "2       563     5947         3140  ...        23     8      8     3     4  79   \n",
       "3       608     5900         3114  ...        25    12     12     4     6  83   \n",
       "4       775     4534         3309  ...         8    16      9     7     6  56   \n",
       "5       861     4398         3469  ...         6    10     11    10     7  50   \n",
       "6       920     4631         3700  ...         7    10      5     8    10  49   \n",
       "\n",
       "1    Debut Since/LastApp BestPosition          deb1  \n",
       "2     1929          1929            1        [1929]  \n",
       "3     1929          1929            1        [1929]  \n",
       "4     1929       2002-03            1        [1929]  \n",
       "5  1931-32       1987-88            1  [1931, 1932]  \n",
       "6     1929          1929            1        [1929]  \n",
       "\n",
       "[5 rows x 21 columns]"
      ]
     },
     "execution_count": 257,
     "metadata": {},
     "output_type": "execute_result"
    }
   ],
   "source": [
    "df3.head()"
   ]
  },
  {
   "cell_type": "code",
   "execution_count": 288,
   "metadata": {},
   "outputs": [],
   "source": [
    "### convering some categorical to numerical\n",
    "cat_num=['Pos', 'Seasons', 'Points', 'GamesPlayed', 'GamesWon',\n",
    "       'GamesDrawn', 'GamesLost', 'GoalsFor', 'GoalsAgainst', 'Champion',\n",
    "       'Runner-up', 'Third', 'Fourth', 'Fifth', 'Sixth', 'T','BestPosition']\n",
    "### pd.numeric will convert only one column to numeric  only one column at a time"
   ]
  },
  {
   "cell_type": "code",
   "execution_count": 290,
   "metadata": {},
   "outputs": [],
   "source": [
    "df3[cat_num] = df3[cat_num].apply(pd.to_numeric)\n"
   ]
  },
  {
   "cell_type": "code",
   "execution_count": 309,
   "metadata": {},
   "outputs": [
    {
     "data": {
      "text/plain": [
       "2     4385\n",
       "3     4262\n",
       "4     3442\n",
       "5     3386\n",
       "6     3368\n",
       "      ... \n",
       "58      34\n",
       "59      22\n",
       "60      19\n",
       "61      14\n",
       "62       0\n",
       "Name: Points, Length: 61, dtype: int64"
      ]
     },
     "execution_count": 309,
     "metadata": {},
     "output_type": "execute_result"
    }
   ],
   "source": [
    "df3['Points'].sort_values(ascending =False)     ### if data is not numeric it will throw an error hence convert the columns \n",
    "# into numeric"
   ]
  },
  {
   "cell_type": "code",
   "execution_count": null,
   "metadata": {},
   "outputs": [],
   "source": []
  },
  {
   "cell_type": "code",
   "execution_count": 328,
   "metadata": {},
   "outputs": [
    {
     "data": {
      "text/html": [
       "<div>\n",
       "<style scoped>\n",
       "    .dataframe tbody tr th:only-of-type {\n",
       "        vertical-align: middle;\n",
       "    }\n",
       "\n",
       "    .dataframe tbody tr th {\n",
       "        vertical-align: top;\n",
       "    }\n",
       "\n",
       "    .dataframe thead th {\n",
       "        text-align: right;\n",
       "    }\n",
       "</style>\n",
       "<table border=\"1\" class=\"dataframe\">\n",
       "  <thead>\n",
       "    <tr style=\"text-align: right;\">\n",
       "      <th>1</th>\n",
       "      <th>Team</th>\n",
       "      <th>Points</th>\n",
       "    </tr>\n",
       "  </thead>\n",
       "  <tbody>\n",
       "    <tr>\n",
       "      <td>2</td>\n",
       "      <td>Real Madrid</td>\n",
       "      <td>4385</td>\n",
       "    </tr>\n",
       "    <tr>\n",
       "      <td>3</td>\n",
       "      <td>Barcelona</td>\n",
       "      <td>4262</td>\n",
       "    </tr>\n",
       "    <tr>\n",
       "      <td>4</td>\n",
       "      <td>Atletico Madrid</td>\n",
       "      <td>3442</td>\n",
       "    </tr>\n",
       "    <tr>\n",
       "      <td>5</td>\n",
       "      <td>Valencia</td>\n",
       "      <td>3386</td>\n",
       "    </tr>\n",
       "    <tr>\n",
       "      <td>6</td>\n",
       "      <td>Athletic Bilbao</td>\n",
       "      <td>3368</td>\n",
       "    </tr>\n",
       "  </tbody>\n",
       "</table>\n",
       "</div>"
      ],
      "text/plain": [
       "1             Team  Points\n",
       "2      Real Madrid    4385\n",
       "3        Barcelona    4262\n",
       "4  Atletico Madrid    3442\n",
       "5         Valencia    3386\n",
       "6  Athletic Bilbao    3368"
      ]
     },
     "execution_count": 328,
     "metadata": {},
     "output_type": "execute_result"
    }
   ],
   "source": [
    "df3.sort_values(by = 'Points' ,ascending = False).loc[:,['Team' ,'Points'] ].head()"
   ]
  },
  {
   "cell_type": "markdown",
   "metadata": {},
   "source": [
    "### 3. What is the distribution of the winning percentage for all teams? Which teams are in the top 5 in terms of winning percentage? (Winning percentage= (GamesWon / GamesPlayed)*100)\n"
   ]
  },
  {
   "cell_type": "code",
   "execution_count": 329,
   "metadata": {},
   "outputs": [
    {
     "data": {
      "text/plain": [
       "Index(['Pos', 'Team', 'Seasons', 'Points', 'GamesPlayed', 'GamesWon',\n",
       "       'GamesDrawn', 'GamesLost', 'GoalsFor', 'GoalsAgainst', 'Champion',\n",
       "       'Runner-up', 'Third', 'Fourth', 'Fifth', 'Sixth', 'T', 'Debut',\n",
       "       'Since/LastApp', 'BestPosition', 'deb1'],\n",
       "      dtype='object', name=1)"
      ]
     },
     "execution_count": 329,
     "metadata": {},
     "output_type": "execute_result"
    }
   ],
   "source": [
    "df3.columns"
   ]
  },
  {
   "cell_type": "code",
   "execution_count": 330,
   "metadata": {},
   "outputs": [],
   "source": [
    "df3['wip'] = (df3['GamesWon']/df3['GamesPlayed'])*100"
   ]
  },
  {
   "cell_type": "code",
   "execution_count": null,
   "metadata": {},
   "outputs": [],
   "source": [
    "### winnig percentage of each team"
   ]
  },
  {
   "cell_type": "code",
   "execution_count": 336,
   "metadata": {},
   "outputs": [
    {
     "data": {
      "text/plain": [
       "2     59.630702\n",
       "3     57.241130\n",
       "4     47.475134\n",
       "5     44.557057\n",
       "6     43.772629\n",
       "        ...    \n",
       "58    21.052632\n",
       "59    23.333333\n",
       "60    23.333333\n",
       "61    16.666667\n",
       "62     0.000000\n",
       "Name: wip, Length: 61, dtype: float64"
      ]
     },
     "execution_count": 336,
     "metadata": {},
     "output_type": "execute_result"
    }
   ],
   "source": [
    "df3['wip'] = df3['wip'].fillna(0)\n",
    "df3['wip']"
   ]
  },
  {
   "cell_type": "code",
   "execution_count": 337,
   "metadata": {},
   "outputs": [
    {
     "data": {
      "text/html": [
       "<div>\n",
       "<style scoped>\n",
       "    .dataframe tbody tr th:only-of-type {\n",
       "        vertical-align: middle;\n",
       "    }\n",
       "\n",
       "    .dataframe tbody tr th {\n",
       "        vertical-align: top;\n",
       "    }\n",
       "\n",
       "    .dataframe thead th {\n",
       "        text-align: right;\n",
       "    }\n",
       "</style>\n",
       "<table border=\"1\" class=\"dataframe\">\n",
       "  <thead>\n",
       "    <tr style=\"text-align: right;\">\n",
       "      <th>1</th>\n",
       "      <th>Team</th>\n",
       "      <th>wip</th>\n",
       "    </tr>\n",
       "  </thead>\n",
       "  <tbody>\n",
       "    <tr>\n",
       "      <td>2</td>\n",
       "      <td>Real Madrid</td>\n",
       "      <td>59.630702</td>\n",
       "    </tr>\n",
       "    <tr>\n",
       "      <td>3</td>\n",
       "      <td>Barcelona</td>\n",
       "      <td>57.241130</td>\n",
       "    </tr>\n",
       "    <tr>\n",
       "      <td>4</td>\n",
       "      <td>Atletico Madrid</td>\n",
       "      <td>47.475134</td>\n",
       "    </tr>\n",
       "    <tr>\n",
       "      <td>5</td>\n",
       "      <td>Valencia</td>\n",
       "      <td>44.557057</td>\n",
       "    </tr>\n",
       "    <tr>\n",
       "      <td>6</td>\n",
       "      <td>Athletic Bilbao</td>\n",
       "      <td>43.772629</td>\n",
       "    </tr>\n",
       "  </tbody>\n",
       "</table>\n",
       "</div>"
      ],
      "text/plain": [
       "1             Team        wip\n",
       "2      Real Madrid  59.630702\n",
       "3        Barcelona  57.241130\n",
       "4  Atletico Madrid  47.475134\n",
       "5         Valencia  44.557057\n",
       "6  Athletic Bilbao  43.772629"
      ]
     },
     "execution_count": 337,
     "metadata": {},
     "output_type": "execute_result"
    }
   ],
   "source": [
    "## top 5  acg to winnig percentage\n",
    "df3.sort_values(by = 'wip' ,ascending = False).loc[: , ['Team' ,'wip']].head()"
   ]
  },
  {
   "cell_type": "code",
   "execution_count": 350,
   "metadata": {},
   "outputs": [
    {
     "data": {
      "text/html": [
       "<div>\n",
       "<style scoped>\n",
       "    .dataframe tbody tr th:only-of-type {\n",
       "        vertical-align: middle;\n",
       "    }\n",
       "\n",
       "    .dataframe tbody tr th {\n",
       "        vertical-align: top;\n",
       "    }\n",
       "\n",
       "    .dataframe thead th {\n",
       "        text-align: right;\n",
       "    }\n",
       "</style>\n",
       "<table border=\"1\" class=\"dataframe\">\n",
       "  <thead>\n",
       "    <tr style=\"text-align: right;\">\n",
       "      <th>1</th>\n",
       "      <th>wip</th>\n",
       "      <th>Team</th>\n",
       "    </tr>\n",
       "  </thead>\n",
       "  <tbody>\n",
       "    <tr>\n",
       "      <td>2</td>\n",
       "      <td>59.630702</td>\n",
       "      <td>Real Madrid</td>\n",
       "    </tr>\n",
       "    <tr>\n",
       "      <td>3</td>\n",
       "      <td>57.241130</td>\n",
       "      <td>Barcelona</td>\n",
       "    </tr>\n",
       "    <tr>\n",
       "      <td>4</td>\n",
       "      <td>47.475134</td>\n",
       "      <td>Atletico Madrid</td>\n",
       "    </tr>\n",
       "    <tr>\n",
       "      <td>5</td>\n",
       "      <td>44.557057</td>\n",
       "      <td>Valencia</td>\n",
       "    </tr>\n",
       "    <tr>\n",
       "      <td>6</td>\n",
       "      <td>43.772629</td>\n",
       "      <td>Athletic Bilbao</td>\n",
       "    </tr>\n",
       "  </tbody>\n",
       "</table>\n",
       "</div>"
      ],
      "text/plain": [
       "1        wip             Team\n",
       "2  59.630702      Real Madrid\n",
       "3  57.241130        Barcelona\n",
       "4  47.475134  Atletico Madrid\n",
       "5  44.557057         Valencia\n",
       "6  43.772629  Athletic Bilbao"
      ]
     },
     "execution_count": 350,
     "metadata": {},
     "output_type": "execute_result"
    }
   ],
   "source": [
    "df3.sort_values(by = ['wip' ,'Team'] , ascending = [False ,False ])[['wip' ,'Team']].head()"
   ]
  },
  {
   "cell_type": "markdown",
   "metadata": {},
   "source": [
    "### 4. Is there a significant difference in the winning percentage for teams which have attained a best position between 1-3 and those teams which have had a best position between 4-7."
   ]
  },
  {
   "cell_type": "code",
   "execution_count": 352,
   "metadata": {},
   "outputs": [
    {
     "data": {
      "text/plain": [
       "Index(['Pos', 'Team', 'Seasons', 'Points', 'GamesPlayed', 'GamesWon',\n",
       "       'GamesDrawn', 'GamesLost', 'GoalsFor', 'GoalsAgainst', 'Champion',\n",
       "       'Runner-up', 'Third', 'Fourth', 'Fifth', 'Sixth', 'T', 'Debut',\n",
       "       'Since/LastApp', 'BestPosition', 'deb1', 'wip'],\n",
       "      dtype='object', name=1)"
      ]
     },
     "execution_count": 352,
     "metadata": {},
     "output_type": "execute_result"
    }
   ],
   "source": [
    "df3.columns"
   ]
  },
  {
   "cell_type": "code",
   "execution_count": 408,
   "metadata": {},
   "outputs": [],
   "source": [
    "a = df3[(df3['BestPosition'] == 1) | (df3['BestPosition'] == 2) | (df3['BestPosition'] == 3)]\n",
    "b = df3[(df3['BestPosition'] == 4) | (df3['BestPosition'] == 5) |\n",
    "             (df3['BestPosition'] == 6) | (df3['BestPosition'] == 7)]"
   ]
  },
  {
   "cell_type": "code",
   "execution_count": 410,
   "metadata": {},
   "outputs": [
    {
     "data": {
      "text/plain": [
       "Ttest_indResult(statistic=4.992715339447283, pvalue=1.5362101870160483e-05)"
      ]
     },
     "execution_count": 410,
     "metadata": {},
     "output_type": "execute_result"
    }
   ],
   "source": [
    "## ho = there is no effect of best position  on  winning  percentage\n",
    "## h1 = there is an effect of best postion  in winning percentage\n",
    "stats.ttest_ind(a['wip'] ,b['wip'])\n",
    "## conclusion =  we reject null hypohesis  pvalue< alpha  hence  we reject null hypothesis ,  hence there is a impact of \n",
    "## best position on winning percentage"
   ]
  },
  {
   "cell_type": "markdown",
   "metadata": {},
   "source": [
    "### 2. A study was done to measure the blood pressure of 60 year old women with glaucoma. A random sample of 200 60-year old women with glaucoma was chosen. The mean of the systolic blood pressure in the sample was 140 mm Hg and the standard deviation was 25 mm Hg.\n",
    "\n",
    "### a)\tCalculate the estimated standard error of the sample mean? What does the standard error indicate?\n",
    "\n",
    "### b)\tEstimate a 95% confidence interval for the true mean blood pressure for all 60-year old women with glaucoma.\n",
    "\n",
    "### c)\tAssume that instead of 200, a random sample of only 100 60-year old women with glaucoma was chosen. The sample mean and standard deviation estimates are the same as those in the original study. What is the estimated 95% confidence interval for the true mean blood pressure?\n",
    "\n",
    "### d)\tWhich of the two above intervals are wider?\n",
    "\n",
    "### e)\tExplain in non-technical terms why the estimated standard error of a sample mean tends to decrease with an increase in sample size.\n",
    "\n"
   ]
  },
  {
   "cell_type": "code",
   "execution_count": 377,
   "metadata": {},
   "outputs": [],
   "source": [
    "n = 200\n",
    "sampmean = 140\n",
    "samsd = 25\n",
    "\n"
   ]
  },
  {
   "cell_type": "markdown",
   "metadata": {},
   "source": [
    "### a) Calculate the estimated standard error of the sample mean? What does the standard error indicate?"
   ]
  },
  {
   "cell_type": "code",
   "execution_count": 379,
   "metadata": {},
   "outputs": [
    {
     "data": {
      "text/plain": [
       "1.7677669529663687"
      ]
     },
     "execution_count": 379,
     "metadata": {},
     "output_type": "execute_result"
    }
   ],
   "source": [
    "###standard error = sampsd/np.sqrt(sampsd)\n",
    "se = samsd/(np.sqrt(n))\n",
    "se\n",
    "### a sample mean deviates from the actual mean of a population—this deviation is the standard error of the mean.\n",
    "## standard error  measures the accuracy with which sample distribution  represent population by using standard deviation\n",
    "  "
   ]
  },
  {
   "cell_type": "code",
   "execution_count": null,
   "metadata": {},
   "outputs": [],
   "source": []
  },
  {
   "cell_type": "markdown",
   "metadata": {},
   "source": [
    "### b) Estimate a 95% confidence interval for the true mean blood pressure for all 60-year old women with glaucoma"
   ]
  },
  {
   "cell_type": "code",
   "execution_count": null,
   "metadata": {},
   "outputs": [],
   "source": [
    "### mean+- Z*standard error"
   ]
  },
  {
   "cell_type": "code",
   "execution_count": null,
   "metadata": {},
   "outputs": [],
   "source": []
  },
  {
   "cell_type": "code",
   "execution_count": 381,
   "metadata": {},
   "outputs": [
    {
     "data": {
      "text/plain": [
       "1.971956544249395"
      ]
     },
     "execution_count": 381,
     "metadata": {},
     "output_type": "execute_result"
    }
   ],
   "source": [
    "z = stats.t.ppf(1-.05/2 ,199)\n",
    "z"
   ]
  },
  {
   "cell_type": "code",
   "execution_count": 389,
   "metadata": {},
   "outputs": [
    {
     "data": {
      "text/plain": [
       "(143.48595961160984, 136.51404038839016)"
      ]
     },
     "execution_count": 389,
     "metadata": {},
     "output_type": "execute_result"
    }
   ],
   "source": [
    "## class interval\n",
    "a1 =140 + z*se   \n",
    "b1 = 140  - z*se     \n",
    "a1,b1"
   ]
  },
  {
   "cell_type": "markdown",
   "metadata": {},
   "source": [
    "\n",
    "### c) Assume that instead of 200, a random sample of only 100 60-year old women with glaucoma was chosen. The sample mean and standard deviation estimates are the same as those in the original study. What is the estimated 95% confidence interval for the true mean blood pressure?"
   ]
  },
  {
   "cell_type": "code",
   "execution_count": 384,
   "metadata": {},
   "outputs": [
    {
     "data": {
      "text/plain": [
       "1.9842169515086827"
      ]
     },
     "execution_count": 384,
     "metadata": {},
     "output_type": "execute_result"
    }
   ],
   "source": [
    "##z1\n",
    "z1 = stats.t.ppf(1-.05/2 ,99)\n",
    "z1"
   ]
  },
  {
   "cell_type": "code",
   "execution_count": 386,
   "metadata": {},
   "outputs": [
    {
     "data": {
      "text/plain": [
       "2.5"
      ]
     },
     "execution_count": 386,
     "metadata": {},
     "output_type": "execute_result"
    }
   ],
   "source": [
    "se1 = samsd/(np.sqrt(100))\n",
    "se1"
   ]
  },
  {
   "cell_type": "code",
   "execution_count": 391,
   "metadata": {},
   "outputs": [
    {
     "data": {
      "text/plain": [
       "(144.96054237877172, 135.03945762122828)"
      ]
     },
     "execution_count": 391,
     "metadata": {},
     "output_type": "execute_result"
    }
   ],
   "source": [
    "## class interval\n",
    "a2 =140+z1*se1 \n",
    "b2 =140-z1*se1\n",
    "a2,b2"
   ]
  },
  {
   "cell_type": "markdown",
   "metadata": {},
   "source": [
    "### d) Which of the two above intervals are wider?¶"
   ]
  },
  {
   "cell_type": "code",
   "execution_count": 392,
   "metadata": {},
   "outputs": [
    {
     "data": {
      "text/plain": [
       "False"
      ]
     },
     "execution_count": 392,
     "metadata": {},
     "output_type": "execute_result"
    }
   ],
   "source": [
    "a1-b1 > a2-b2\n",
    "## interval  with sample size of 100 is more wider"
   ]
  },
  {
   "cell_type": "markdown",
   "metadata": {},
   "source": [
    "### e) Explain in non-technical terms why the estimated standard error of a sample mean tends to decrease with an increase in sample size."
   ]
  },
  {
   "cell_type": "code",
   "execution_count": null,
   "metadata": {},
   "outputs": [],
   "source": [
    "### as  the sample size increases chances  of error also decrease , its also because we have more number of datapoints as \n",
    "## compared to having a data with less sample size , \n",
    "## capturing od deviation is also larger in smaller sample size , but in large sample size we tend to  capture more more data \n",
    "### towards mean  hence less prpotionate deviation is captured"
   ]
  },
  {
   "cell_type": "markdown",
   "metadata": {},
   "source": [
    "### Par Inc., is a major manufacturer of golf equipment. Management believes that Par’s market share could be increased with the introduction of a cut-resistant, longer-lasting golf ball. Therefore, the research group at Par has been investigating a new golf ball coating designed to resist cuts and provide a more durable ball. The tests with the coating have been promising.\n",
    "\n",
    "### One of the researchers voiced concern about the effect of the new coating on driving distances. Par would like the new cut-resistant ball to offer driving distances comparable to those of the current-model golf ball. To compare the driving distances for the two balls, 40 balls of both the new and current models were subjected to distance tests. The testing was performed with a mechanical hitting machine so that any difference between the mean distances for the two models could be "
   ]
  },
  {
   "cell_type": "markdown",
   "metadata": {},
   "source": [
    " ### attributed to a difference in the design. The results of the tests, with distances measured to the nearest yard, are contained in   the data set “Golf”.\n",
    "\n",
    "### 1.\tFormulate and present the rationale for a hypothesis test that Par could use to compare the driving distances of the current and new golf balls.\n",
    "### 2.\tAnalyze the data to provide the hypothesis testing conclusion. What is the p-value for your test? What is your recommendation for Par Inc.?\n",
    "### 3.\tWhat is the 95% confidence interval for the population mean of each model, and what is the 95% confidence interval for the difference between the means of the two population?\n"
   ]
  },
  {
   "cell_type": "code",
   "execution_count": 394,
   "metadata": {},
   "outputs": [
    {
     "name": "stdout",
     "output_type": "stream",
     "text": [
      "<class 'pandas.core.frame.DataFrame'>\n",
      "RangeIndex: 40 entries, 0 to 39\n",
      "Data columns (total 2 columns):\n",
      "Current    40 non-null int64\n",
      "New        40 non-null int64\n",
      "dtypes: int64(2)\n",
      "memory usage: 768.0 bytes\n"
     ]
    }
   ],
   "source": [
    "df1.info()"
   ]
  },
  {
   "cell_type": "code",
   "execution_count": 411,
   "metadata": {},
   "outputs": [
    {
     "data": {
      "text/html": [
       "<div>\n",
       "<style scoped>\n",
       "    .dataframe tbody tr th:only-of-type {\n",
       "        vertical-align: middle;\n",
       "    }\n",
       "\n",
       "    .dataframe tbody tr th {\n",
       "        vertical-align: top;\n",
       "    }\n",
       "\n",
       "    .dataframe thead th {\n",
       "        text-align: right;\n",
       "    }\n",
       "</style>\n",
       "<table border=\"1\" class=\"dataframe\">\n",
       "  <thead>\n",
       "    <tr style=\"text-align: right;\">\n",
       "      <th></th>\n",
       "      <th>Current</th>\n",
       "      <th>New</th>\n",
       "    </tr>\n",
       "  </thead>\n",
       "  <tbody>\n",
       "    <tr>\n",
       "      <td>0</td>\n",
       "      <td>264</td>\n",
       "      <td>277</td>\n",
       "    </tr>\n",
       "    <tr>\n",
       "      <td>1</td>\n",
       "      <td>261</td>\n",
       "      <td>269</td>\n",
       "    </tr>\n",
       "    <tr>\n",
       "      <td>2</td>\n",
       "      <td>267</td>\n",
       "      <td>263</td>\n",
       "    </tr>\n",
       "    <tr>\n",
       "      <td>3</td>\n",
       "      <td>272</td>\n",
       "      <td>266</td>\n",
       "    </tr>\n",
       "    <tr>\n",
       "      <td>4</td>\n",
       "      <td>258</td>\n",
       "      <td>262</td>\n",
       "    </tr>\n",
       "  </tbody>\n",
       "</table>\n",
       "</div>"
      ],
      "text/plain": [
       "   Current  New\n",
       "0      264  277\n",
       "1      261  269\n",
       "2      267  263\n",
       "3      272  266\n",
       "4      258  262"
      ]
     },
     "execution_count": 411,
     "metadata": {},
     "output_type": "execute_result"
    }
   ],
   "source": [
    "df1.head()"
   ]
  },
  {
   "cell_type": "markdown",
   "metadata": {},
   "source": [
    "### 1. Formulate and present the rationale for a hypothesis test that Par could use to compare the driving distances of the current and new golf balls."
   ]
  },
  {
   "cell_type": "code",
   "execution_count": null,
   "metadata": {},
   "outputs": [],
   "source": [
    "### H0 = mean distance covered by old model and new model is same\n",
    "### H1 = mean distance coverd by old model != mean distance covered by new model"
   ]
  },
  {
   "cell_type": "code",
   "execution_count": null,
   "metadata": {},
   "outputs": [],
   "source": [
    "###df>30 hence data is normal  or lets just check for the normalcy "
   ]
  },
  {
   "cell_type": "code",
   "execution_count": 397,
   "metadata": {},
   "outputs": [
    {
     "data": {
      "text/plain": [
       "(0.9707046747207642, 0.378787100315094)"
      ]
     },
     "execution_count": 397,
     "metadata": {},
     "output_type": "execute_result"
    }
   ],
   "source": [
    "stats.shapiro(df1['Current'])  \n",
    "###  pvlue> alpha(.05)  , hence we are failed to reject null hypothesis hence  current  column data is normal"
   ]
  },
  {
   "cell_type": "code",
   "execution_count": 398,
   "metadata": {},
   "outputs": [
    {
     "data": {
      "text/plain": [
       "(0.9678263664245605, 0.3064655363559723)"
      ]
     },
     "execution_count": 398,
     "metadata": {},
     "output_type": "execute_result"
    }
   ],
   "source": [
    "stats.shapiro(df1['New']) \n",
    "## pvlue> alpha(.05)  , hence we are failed to reject null hypothesis hence  New  column data is normal"
   ]
  },
  {
   "cell_type": "markdown",
   "metadata": {},
   "source": [
    "### 2. Analyze the data to provide the hypothesis testing conclusion. What is the p-value for your test? What is your recommendation for Par Inc.?"
   ]
  },
  {
   "cell_type": "code",
   "execution_count": null,
   "metadata": {},
   "outputs": [],
   "source": [
    "## here we are goimg to perform ttest_ind"
   ]
  },
  {
   "cell_type": "code",
   "execution_count": 421,
   "metadata": {},
   "outputs": [
    {
     "data": {
      "text/plain": [
       "Ttest_indResult(statistic=1.3283615935245678, pvalue=0.18793228491854663)"
      ]
     },
     "execution_count": 421,
     "metadata": {},
     "output_type": "execute_result"
    }
   ],
   "source": [
    "stats.ttest_ind(df1['Current'] ,df1['New'])\n"
   ]
  },
  {
   "cell_type": "code",
   "execution_count": null,
   "metadata": {},
   "outputs": [],
   "source": [
    "### conclusion :- here we are fail to reject null hypothesis hence mean distance covered by both the ball is same\n",
    "pvalue=0.18793228491854663\n",
    "### my recomendation would be that they should use the new material"
   ]
  },
  {
   "cell_type": "markdown",
   "metadata": {},
   "source": [
    "### 3. What is the 95% confidence interval for the population mean of each model, and what is the 95% confidence interval for the difference between the means of the two population?\n"
   ]
  },
  {
   "cell_type": "code",
   "execution_count": null,
   "metadata": {},
   "outputs": [],
   "source": [
    "## 95% confidence interval"
   ]
  },
  {
   "cell_type": "code",
   "execution_count": 414,
   "metadata": {},
   "outputs": [],
   "source": [
    "n = 40\n",
    "mean1 =  np.mean(df1['Current'])\n",
    "mean2 = np.mean(df1['New'])\n",
    "sd1 = df1['Current'].std()\n",
    "sd2 = df1['New'].std()\n",
    "### z value is going to be same\n",
    "z =stats.t.ppf(1-.05/2 , 39)"
   ]
  },
  {
   "cell_type": "code",
   "execution_count": 422,
   "metadata": {},
   "outputs": [
    {
     "data": {
      "text/plain": [
       "(2.022690911734728, 8.752984838884597, 9.896904462947894)"
      ]
     },
     "execution_count": 422,
     "metadata": {},
     "output_type": "execute_result"
    }
   ],
   "source": [
    "z ,sd1 ,sd2 "
   ]
  },
  {
   "cell_type": "code",
   "execution_count": 425,
   "metadata": {},
   "outputs": [],
   "source": [
    "se1 = sd1/np.sqrt(n)\n",
    "se2  = sd2/np.sqrt(n)\n",
    "## there is going to be two classes  for each population"
   ]
  },
  {
   "cell_type": "code",
   "execution_count": null,
   "metadata": {},
   "outputs": [],
   "source": []
  },
  {
   "cell_type": "markdown",
   "metadata": {},
   "source": []
  },
  {
   "cell_type": "markdown",
   "metadata": {},
   "source": [
    "#### differnce of class interval"
   ]
  },
  {
   "cell_type": "code",
   "execution_count": 434,
   "metadata": {},
   "outputs": [
    {
     "data": {
      "text/plain": [
       "(7.000481455821679, -1.4504814558217243)"
      ]
     },
     "execution_count": 434,
     "metadata": {},
     "output_type": "execute_result"
    }
   ],
   "source": [
    "cup = (mean1- mean2)+z*np.sqrt((sd1**2/ n) +(sd2**2/ n) )\n",
    "clow = (mean1- mean2) - z*np.sqrt((sd1**2/ n) +(sd2**2/ n) )\n",
    "cup,clow\n",
    "### as lower interval is less than zero hence this interval is not very reliable"
   ]
  }
 ],
 "metadata": {
  "kernelspec": {
   "display_name": "Python 3",
   "language": "python",
   "name": "python3"
  },
  "language_info": {
   "codemirror_mode": {
    "name": "ipython",
    "version": 3
   },
   "file_extension": ".py",
   "mimetype": "text/x-python",
   "name": "python",
   "nbconvert_exporter": "python",
   "pygments_lexer": "ipython3",
   "version": "3.7.4"
  }
 },
 "nbformat": 4,
 "nbformat_minor": 2
}
